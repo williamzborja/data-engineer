{
 "cells": [
  {
   "cell_type": "code",
   "execution_count": 5,
   "id": "39948f2c-cee6-4347-a622-cdf420aad06d",
   "metadata": {
    "editable": true,
    "slideshow": {
     "slide_type": ""
    },
    "tags": [],
    "vscode": {
     "languageId": "rust"
    }
   },
   "outputs": [
    {
     "name": "stdout",
     "output_type": "stream",
     "text": [
      "Hello\n"
     ]
    },
    {
     "data": {
      "text/plain": [
       "()"
      ]
     },
     "execution_count": 5,
     "metadata": {},
     "output_type": "execute_result"
    }
   ],
   "source": [
    "println!(\"Hello\")"
   ]
  },
  {
   "cell_type": "code",
   "execution_count": 4,
   "id": "c659f8b5",
   "metadata": {
    "vscode": {
     "languageId": "rust"
    }
   },
   "outputs": [
    {
     "data": {
      "text/plain": [
       "2024-09-08T01:44:58.117990Z"
      ]
     },
     "execution_count": 4,
     "metadata": {},
     "output_type": "execute_result"
    }
   ],
   "source": [
    ":dep chrono\n",
    "\n",
    "use chrono::prelude::*;\n",
    "let now = Utc::now();\n",
    "now"
   ]
  },
  {
   "cell_type": "code",
   "execution_count": 5,
   "id": "1dd322b2-4ac0-4f86-a141-008429d343fd",
   "metadata": {
    "vscode": {
     "languageId": "rust"
    }
   },
   "outputs": [],
   "source": [
    ":dep polars\n",
    "use polars::prelude::*;\n",
    "\n",
    "let mut df: DataFrame = df!(\n",
    "    \"integer\" => &[1, 2, 3],\n",
    "    \"float\" => &[4.0, 5.0, 6.0],\n",
    "    \"string\" => &[\"a\", \"b\", \"c\"],\n",
    ")\n",
    ".unwrap();\n",
    "df"
   ]
  }
 ],
 "metadata": {
  "kernelspec": {
   "display_name": "Rust",
   "language": "rust",
   "name": "rust"
  },
  "language_info": {
   "codemirror_mode": "rust",
   "file_extension": ".rs",
   "mimetype": "text/rust",
   "name": "Rust",
   "pygment_lexer": "rust",
   "version": ""
  }
 },
 "nbformat": 4,
 "nbformat_minor": 5
}
